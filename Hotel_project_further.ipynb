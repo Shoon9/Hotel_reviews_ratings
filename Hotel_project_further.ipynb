{
  "nbformat": 4,
  "nbformat_minor": 0,
  "metadata": {
    "colab": {
      "provenance": [],
      "gpuType": "T4"
    },
    "kernelspec": {
      "name": "python3",
      "display_name": "Python 3"
    },
    "language_info": {
      "name": "python"
    }
  },
  "cells": [
    {
      "cell_type": "code",
      "execution_count": null,
      "metadata": {
        "colab": {
          "base_uri": "https://localhost:8080/",
          "height": 572
        },
        "id": "htqkHJN6ah4S",
        "outputId": "43f162d1-0bea-4ca2-a965-efbcbcad0a1a"
      },
      "outputs": [
        {
          "output_type": "stream",
          "name": "stdout",
          "text": [
            "Mounted at /content/drive\n"
          ]
        },
        {
          "output_type": "display_data",
          "data": {
            "text/plain": [
              "<Figure size 640x480 with 1 Axes>"
            ],
            "image/png": "[encoded data removed]"
          },
          "metadata": {}
        },
        {
          "output_type": "stream",
          "name": "stdout",
          "text": [
            "9376\n",
            "['have', 'been', 'frequent', 'visitor', 'this', 'chain', 'for', 'few', 'years', 'now', 'sad', 'that', 'this', 'restaurant', 'decline', 'and', 'seems', 'that', 'the', 'management', 'completely', 'indifferent', 'had', 'the', 'unfortunate', 'experience', 'having', 'lunch', 'here', 'this', 'afternoon', 'The', 'service', 'poor', 'and', 'the', 'servers', 'bother', 'listen', 'your', 'requests', 'ordered', 'non', 'spicy', 'vegetarian', 'dish', 'for', 'parents', 'they', 'eat', 'spicy', 'food', 'when', 'the', 'dish', 'came', 'was', 'with', 'different', 'sauce', 'and', 'loaded', 'with', 'spices', 'the', 'server', 'requested', 'that', 'accept', 'the', 'dish', 'refused', 'and', 'could', 'immediately', 'see', 'his', 'displeasure', 'Overall', 'food', 'was', 'average', 'and', 'nothing', 'can', 'feel', 'good', 'about', 'Chicken', 'dish', 'tasted', 'stale', 'waste', 'your', 'money', 'here']\n",
            "['have', 'always', 'visit', 'this', 'place', 'they', 'always', 'offer', 'good', 'food', 'The', 'one', 'thing', 'hate', 'about', 'this', 'place', 'long', 'Ques', 'during', 'lunch', 'dinner', 'time', 'You', 'get', 'entry', 'chance', 'there', 'odd', 'time', 'and', 'enjoy', 'awesome', 'South', 'Indian', 'cuisine']\n",
            "['Beeryani', 'serves', 'good', 'Biryani', 'both', 'dum', 'and', 'awadhi', 'style', 'Dum', 'biryani', 'fav', 'They', 'have', 'unique', 'mirchi', 'parantha', 'which', 'friends', 'fav', 'you', 'tell', 'them', 'keep', 'low', 'spices', 'they', 'will', 'put', 'green', 'chili', 'seeds', 'everything', 'However', 'wish', 'they', 'served', 'Naan', 'and', 'daal', 'makhani']\n",
            "['Very', 'fantastic', 'snacks', 'and', 'tea', 'available', 'the', 'balle', 'balle', 'restaurant', 'Nice', 'place', 'sit', 'and', 'enjoy', 'the', 'tea']\n",
            "['This', 'small', 'restaurant', 'expertised', 'Chinese', 'food', 'items', 'Pasta', 'white', 'sauce', 'with', 'crispy', 'potato', 'chilly', 'was', 'worth', 'tasty']\n"
          ]
        }
      ],
      "source": [
        "from google.colab import drive\n",
        "drive.mount('/content/drive')\n",
        "\n",
        "import pandas as pd\n",
        "import numpy as np\n",
        "import tensorflow as tf\n",
        "from sklearn.model_selection import train_test_split\n",
        "from sklearn.linear_model import LogisticRegression\n",
        "from sklearn.metrics import accuracy_score\n",
        "\n",
        "df = pd.read_csv('/content/drive/MyDrive/Colab/딥러닝분석/Hotel_reviews_20k.csv', sep=',', encoding='utf-8' )\n",
        "df = df.iloc[:, :2]\n",
        "\n",
        "train_text = df.iloc[1::2, ]\n",
        "test_text = df.iloc[0::2, ]\n",
        "\n",
        "train_text = np.array(train_text)\n",
        "test_text = np.array(test_text)\n",
        "\n",
        "train_x = [sentence for sentence in train_text[:, 1]]\n",
        "test_x = [sentence for sentence in test_text[:, 1]]\n",
        "\n",
        "train_y = np.array([[int(sen)-1] for sen in train_text[:, 0]])\n",
        "test_y = np.array([[int(sen) - 1] for sen in test_text[:, 0]])\n",
        "\n",
        "import re\n",
        "import matplotlib.pyplot as plt\n",
        "from tensorflow.keras.preprocessing.text import Tokenizer\n",
        "from tensorflow.keras.preprocessing.sequence import pad_sequences\n",
        "\n",
        "def clean_str(string):\n",
        "    if isinstance(string, str):\n",
        "        string = re.sub(r\"[^가-힣A-Za-z0-9(),!?\\'\\`]\", \" \", string)\n",
        "        string = re.sub(r\"\\'s\", \" \\'s\", string)\n",
        "        string = re.sub(r\"\\'ve\", \" \\'ve\", string)\n",
        "        string = re.sub(r\"n\\'t\", \" n\\'t\", string)\n",
        "        string = re.sub(r\"\\'re\", \" \\'re\", string)\n",
        "        string = re.sub(r\"\\'d\", \" \\'d\", string)\n",
        "        string = re.sub(r\"\\'ll\", \" \\'ll\", string)\n",
        "        string = re.sub(r\",\", \" , \", string)\n",
        "        string = re.sub(r\"!\", \" ! \", string)\n",
        "        string = re.sub(r\"\\(\", \" \\( \", string)\n",
        "        string = re.sub(r\"\\)\", \" \\) \", string)\n",
        "        string = re.sub(r\"\\?\", \" \\? \", string)\n",
        "        string = re.sub(r\"\\s{2,}\", \" \", string)\n",
        "        string = re.sub(r\"\\'{2,}\", \"\\'\", string)\n",
        "        string = re.sub(r\"\\'\", \"\", string)\n",
        "    return string\n",
        "\n",
        "\n",
        "train_text_X = [clean_str(sentence) for sentence in train_x]\n",
        "sentences = [sentence.split(' ') if isinstance(sentence, str) else '' for sentence in train_text_X]\n",
        "\n",
        "# 각 문장의 단어 길이 확인\n",
        "sentence_len = [len(sentence) for sentence in sentences]\n",
        "sentence_len.sort()\n",
        "plt.plot(sentence_len)\n",
        "plt.show()\n",
        "\n",
        "print(sum([int(l<=200) for l in sentence_len]))\n",
        "\n",
        "# 단어 정제 및 문장 길이 줄임\n",
        "sentences_new = []\n",
        "for sentence in sentences:\n",
        "    sentences_new.append([word for word in sentence[:200] if len(word) >= 3])\n",
        "sentences = sentences_new\n",
        "\n",
        "for i in range(5):\n",
        "    print(sentences[i])\n",
        "\n",
        "tokenizer = Tokenizer(num_words=20000)\n",
        "tokenizer.fit_on_texts(sentences)\n",
        "train_X = tokenizer.texts_to_sequences(sentences)\n",
        "train_X = pad_sequences(train_X, maxlen=200, padding='post')\n",
        "\n",
        "# 감성 분석을 위한 모델 정의\n",
        "model = tf.keras.Sequential([\n",
        "    tf.keras.layers.Embedding(20000, 300, input_length=200),\n",
        "    tf.keras.layers.LSTM(units=50),\n",
        "    tf.keras.layers.Dense(units=5, activation='softmax')\n",
        "])\n",
        "model.compile(optimizer='adam', loss='sparse_categorical_crossentropy', metrics=['accuracy'])\n",
        "model.summary()\n",
        "\n",
        "history = model.fit(train_X, train_y, epochs=5, batch_size=128, validation_split=0.2)\n",
        "\n",
        "\n"
      ]
    },
    {
      "cell_type": "code",
      "source": [
        "# 테스트 데이터 전처리\n",
        "test_text_X = [clean_str(sentence) for sentence in test_x]\n",
        "sentences = [sentence.split(' ') if isinstance(sentence, str) else '' for sentence in test_text_X]\n",
        "\n",
        "# 단어 정제 및 문장 길이 줄임\n",
        "sentences_new = []\n",
        "for sentence in sentences:\n",
        "    sentences_new.append([word for word in sentence[:200] if len(word) >= 3])\n",
        "sentences = sentences_new\n",
        "\n",
        "tokenizer = Tokenizer(num_words=20000)\n",
        "tokenizer.fit_on_texts(sentences)\n",
        "test_X = tokenizer.texts_to_sequences(sentences)\n",
        "test_X = pad_sequences(test_X, maxlen=200, padding='post')\n"
      ],
      "metadata": {
        "id": "-vmwyJr3bXPj"
      },
      "execution_count": null,
      "outputs": []
    },
    {
      "cell_type": "code",
      "source": [
        "# Train the KNN model\n",
        "knn = KNeighborsClassifier(n_neighbors=5)\n",
        "knn.fit(X_train, y_train)\n",
        "\n",
        "# Make predictions on the test set\n",
        "y_pred = knn.predict(X_test)\n",
        "\n",
        "# Evaluate the model\n",
        "accuracy = accuracy_score(y_test, y_pred)\n",
        "print(\"Accuracy:\", accuracy)\n"
      ],
      "metadata": {
        "id": "bdZw-03wH0bs"
      },
      "execution_count": null,
      "outputs": []
    },
    {
      "cell_type": "code",
      "source": [
        "df_pro = np.concatenate((train_X, test_X))"
      ],
      "metadata": {
        "id": "nnVFt043H0Ic"
      },
      "execution_count": null,
      "outputs": []
    },
    {
      "cell_type": "code",
      "source": [
        "y_pro = np.concatenate((train_y, test_y))\n",
        "y_pro.shape"
      ],
      "metadata": {
        "colab": {
          "base_uri": "https://localhost:8080/"
        },
        "id": "R8ErMpUfKCRW",
        "outputId": "5a9e9f51-846a-47d8-db55-8bbc496de187"
      },
      "execution_count": null,
      "outputs": [
        {
          "output_type": "execute_result",
          "data": {
            "text/plain": [
              "(20000, 1)"
            ]
          },
          "metadata": {},
          "execution_count": 7
        }
      ]
    },
    {
      "cell_type": "code",
      "source": [
        "# 감성 분석을 위한 모델 정의\n",
        "model = tf.keras.Sequential([\n",
        "    tf.keras.layers.Embedding(20000, 300, input_length=200),\n",
        "    tf.keras.layers.LSTM(units=50),\n",
        "    tf.keras.layers.Dense(units=5, activation='softmax')\n",
        "])\n",
        "model.compile(optimizer='adam', loss='sparse_categorical_crossentropy', metrics=['accuracy'])\n",
        "model.summary()\n",
        "\n",
        "history = model.fit(train_X, train_y, epochs=5, batch_size=128, validation_split=0.2)\n",
        "\n",
        "model.evaluate(test_X, test_y, verbose=0)"
      ],
      "metadata": {
        "id": "TmpYeQDFFdZ8",
        "colab": {
          "base_uri": "https://localhost:8080/"
        },
        "outputId": "70e23fb8-e640-4037-d33e-06d3ada54975"
      },
      "execution_count": null,
      "outputs": [
        {
          "output_type": "stream",
          "name": "stdout",
          "text": [
            "Model: \"sequential_2\"\n",
            "_________________________________________________________________\n",
            " Layer (type)                Output Shape              Param #   \n",
            "=================================================================\n",
            " embedding_2 (Embedding)     (None, 200, 300)          6000000   \n",
            "                                                                 \n",
            " lstm_2 (LSTM)               (None, 50)                70200     \n",
            "                                                                 \n",
            " dense_2 (Dense)             (None, 5)                 255       \n",
            "                                                                 \n",
            "=================================================================\n",
            "Total params: 6,070,455\n",
            "Trainable params: 6,070,455\n",
            "Non-trainable params: 0\n",
            "_________________________________________________________________\n",
            "Epoch 1/5\n",
            "63/63 [==============================] - 45s 658ms/step - loss: 1.4129 - accuracy: 0.3975 - val_loss: 1.4024 - val_accuracy: 0.3790\n",
            "Epoch 2/5\n",
            "63/63 [==============================] - 41s 646ms/step - loss: 1.3994 - accuracy: 0.4016 - val_loss: 1.4056 - val_accuracy: 0.3790\n",
            "Epoch 3/5\n",
            "63/63 [==============================] - 44s 698ms/step - loss: 1.3985 - accuracy: 0.4016 - val_loss: 1.4042 - val_accuracy: 0.3790\n",
            "Epoch 4/5\n",
            "63/63 [==============================] - 42s 672ms/step - loss: 1.4003 - accuracy: 0.4016 - val_loss: 1.4058 - val_accuracy: 0.3790\n",
            "Epoch 5/5\n",
            "63/63 [==============================] - 42s 671ms/step - loss: 1.3991 - accuracy: 0.4016 - val_loss: 1.4024 - val_accuracy: 0.3790\n"
          ]
        },
        {
          "output_type": "execute_result",
          "data": {
            "text/plain": [
              "[1.3979308605194092, 0.4056999981403351]"
            ]
          },
          "metadata": {},
          "execution_count": 19
        }
      ]
    },
    {
      "cell_type": "markdown",
      "source": [
        "# 로지스틱"
      ],
      "metadata": {
        "id": "GhYYDCEbKOQa"
      }
    },
    {
      "cell_type": "code",
      "source": [
        "# 학습 데이터와 테스트 데이터 분리\n",
        "X_train, X_test, y_train, y_test = train_test_split(df_pro, y_pro, test_size=0.2, random_state=42)\n",
        "\n",
        "# 로지스틱 회귀 모델 학습\n",
        "model = LogisticRegression(multi_class='multinomial', solver='lbfgs')\n",
        "model.fit(X_train, y_train)\n",
        "\n",
        "# 테스트 데이터에 대한 예측\n",
        "y_pred = model.predict(X_test)\n",
        "\n",
        "# 모델 성능 평가\n",
        "accuracy = accuracy_score(y_test, y_pred)\n",
        "print(\"모델 정확도:\", accuracy)"
      ],
      "metadata": {
        "colab": {
          "base_uri": "https://localhost:8080/"
        },
        "id": "flhrvNJ1KNzP",
        "outputId": "79971762-27fd-4064-cbb1-7abcbed6bc2e"
      },
      "execution_count": null,
      "outputs": [
        {
          "output_type": "stream",
          "name": "stderr",
          "text": [
            "/usr/local/lib/python3.10/dist-packages/sklearn/utils/validation.py:1143: DataConversionWarning: A column-vector y was passed when a 1d array was expected. Please change the shape of y to (n_samples, ), for example using ravel().\n",
            "  y = column_or_1d(y, warn=True)\n"
          ]
        },
        {
          "output_type": "stream",
          "name": "stdout",
          "text": [
            "모델 정확도: 0.39975\n"
          ]
        },
        {
          "output_type": "stream",
          "name": "stderr",
          "text": [
            "/usr/local/lib/python3.10/dist-packages/sklearn/linear_model/_logistic.py:458: ConvergenceWarning: lbfgs failed to converge (status=1):\n",
            "STOP: TOTAL NO. of ITERATIONS REACHED LIMIT.\n",
            "\n",
            "Increase the number of iterations (max_iter) or scale the data as shown in:\n",
            "    https://scikit-learn.org/stable/modules/preprocessing.html\n",
            "Please also refer to the documentation for alternative solver options:\n",
            "    https://scikit-learn.org/stable/modules/linear_model.html#logistic-regression\n",
            "  n_iter_i = _check_optimize_result(\n"
          ]
        }
      ]
    },
    {
      "cell_type": "markdown",
      "source": [
        "# KNN"
      ],
      "metadata": {
        "id": "DF8DTau5KpLB"
      }
    },
    {
      "cell_type": "code",
      "source": [
        "from sklearn.neighbors import KNeighborsClassifier\n",
        "\n",
        "# Split the data into training and test sets\n",
        "X_train, X_test, y_train, y_test = train_test_split(df_pro, y_pro, test_size=0.2, random_state=42)\n",
        "\n",
        "# Train the KNN model\n",
        "knn = KNeighborsClassifier(n_neighbors=5)\n",
        "knn.fit(X_train, y_train)\n",
        "\n",
        "# Make predictions on the test set\n",
        "y_pred = knn.predict(X_test)\n",
        "\n",
        "# Evaluate the model\n",
        "accuracy = accuracy_score(y_test, y_pred)\n",
        "print(\"Accuracy:\", accuracy)\n"
      ],
      "metadata": {
        "colab": {
          "base_uri": "https://localhost:8080/"
        },
        "id": "_RJQXDSfKlgR",
        "outputId": "2c40ac82-e9ad-4885-f406-bb43da35be81"
      },
      "execution_count": null,
      "outputs": [
        {
          "output_type": "stream",
          "name": "stderr",
          "text": [
            "/usr/local/lib/python3.10/dist-packages/sklearn/neighbors/_classification.py:215: DataConversionWarning: A column-vector y was passed when a 1d array was expected. Please change the shape of y to (n_samples,), for example using ravel().\n",
            "  return self._fit(X, y)\n"
          ]
        },
        {
          "output_type": "stream",
          "name": "stdout",
          "text": [
            "Accuracy: 0.2985\n"
          ]
        }
      ]
    },
    {
      "cell_type": "markdown",
      "source": [
        "# SVM"
      ],
      "metadata": {
        "id": "5ELHDod9K9Um"
      }
    },
    {
      "cell_type": "code",
      "source": [
        "from sklearn.svm import SVC\n",
        "\n",
        "# Split the data into training and test sets\n",
        "X_train, X_test, y_train, y_test = train_test_split(df_pro, y_pro, test_size=0.2, random_state=42)\n",
        "\n",
        "# Train the SVM model\n",
        "svm = SVC()\n",
        "svm.fit(X_train, y_train)\n",
        "\n",
        "# Make predictions on the test set\n",
        "y_pred = svm.predict(X_test)\n",
        "\n",
        "# Evaluate the model\n",
        "accuracy = accuracy_score(y_test, y_pred)\n",
        "print(\"Accuracy:\", accuracy)\n"
      ],
      "metadata": {
        "colab": {
          "base_uri": "https://localhost:8080/"
        },
        "id": "nveytFkRKy9C",
        "outputId": "efa38074-8c05-4cae-914d-4f0e7b1ddcd1"
      },
      "execution_count": null,
      "outputs": [
        {
          "output_type": "stream",
          "name": "stderr",
          "text": [
            "/usr/local/lib/python3.10/dist-packages/sklearn/utils/validation.py:1143: DataConversionWarning: A column-vector y was passed when a 1d array was expected. Please change the shape of y to (n_samples, ), for example using ravel().\n",
            "  y = column_or_1d(y, warn=True)\n"
          ]
        },
        {
          "output_type": "stream",
          "name": "stdout",
          "text": [
            "Accuracy: 0.40675\n"
          ]
        }
      ]
    },
    {
      "cell_type": "markdown",
      "source": [
        "# 결정트리"
      ],
      "metadata": {
        "id": "AchSvV3xLZ0b"
      }
    },
    {
      "cell_type": "code",
      "source": [
        "from sklearn.tree import DecisionTreeClassifier\n",
        "\n",
        "# Split the data into training and test sets\n",
        "X_train, X_test, y_train, y_test = train_test_split(df_pro, y_pro, test_size=0.2, random_state=42)\n",
        "\n",
        "# 결정 트리 모델 학습\n",
        "model = DecisionTreeClassifier()\n",
        "model.fit(X_train, y_train)\n",
        "\n",
        "# 테스트 데이터에 대한 예측\n",
        "y_pred = model.predict(X_test)\n",
        "\n",
        "# 모델 성능 평가\n",
        "accuracy = accuracy_score(y_test, y_pred)\n",
        "print(\"모델 정확도:\", accuracy)"
      ],
      "metadata": {
        "colab": {
          "base_uri": "https://localhost:8080/"
        },
        "id": "6J6GUSZ8LNaX",
        "outputId": "6e25e115-5635-4dac-d054-2b46be182293"
      },
      "execution_count": null,
      "outputs": [
        {
          "output_type": "stream",
          "name": "stdout",
          "text": [
            "모델 정확도: 0.289\n"
          ]
        }
      ]
    },
    {
      "cell_type": "markdown",
      "source": [
        "#RandomForest"
      ],
      "metadata": {
        "id": "bp-jfwvfLqS5"
      }
    },
    {
      "cell_type": "code",
      "source": [
        "from sklearn.ensemble import RandomForestClassifier\n",
        "\n",
        "# Split the data into training and test sets\n",
        "X_train, X_test, y_train, y_test = train_test_split(df_pro, y_pro, test_size=0.2, random_state=42)\n",
        "\n",
        "# Train the Random Forest model\n",
        "rf = RandomForestClassifier()\n",
        "rf.fit(X_train, y_train)\n",
        "\n",
        "# Make predictions on the test set\n",
        "y_pred = rf.predict(X_test)\n",
        "\n",
        "# Evaluate the model\n",
        "accuracy = accuracy_score(y_test, y_pred)\n",
        "print(\"Accuracy:\", accuracy)\n"
      ],
      "metadata": {
        "colab": {
          "base_uri": "https://localhost:8080/"
        },
        "id": "S8wAuOIHLpfk",
        "outputId": "1383b6ae-68ff-4044-c24a-965c9686291b"
      },
      "execution_count": null,
      "outputs": [
        {
          "output_type": "stream",
          "name": "stderr",
          "text": [
            "<ipython-input-13-cf3f4a4170fa>:8: DataConversionWarning: A column-vector y was passed when a 1d array was expected. Please change the shape of y to (n_samples,), for example using ravel().\n",
            "  rf.fit(X_train, y_train)\n"
          ]
        },
        {
          "output_type": "stream",
          "name": "stdout",
          "text": [
            "Accuracy: 0.39575\n"
          ]
        }
      ]
    },
    {
      "cell_type": "markdown",
      "source": [
        "# XGB"
      ],
      "metadata": {
        "id": "QCqlFT35MSK5"
      }
    },
    {
      "cell_type": "code",
      "source": [
        "import xgboost as xgb\n",
        "\n",
        "# 학습 데이터와 테스트 데이터 분리\n",
        "X_train, X_test, y_train, y_test = train_test_split(df_pro, y_pro, test_size=0.2, random_state=42)\n",
        "\n",
        "# XGBoost 모델 학습\n",
        "model = xgb.XGBClassifier()\n",
        "model.fit(X_train, y_train)\n",
        "\n",
        "# 테스트 데이터에 대한 예측\n",
        "y_pred = model.predict(X_test)\n",
        "\n",
        "# 모델 성능 평가\n",
        "accuracy = accuracy_score(y_test, y_pred)\n",
        "print(\"모델 정확도:\", accuracy)"
      ],
      "metadata": {
        "colab": {
          "base_uri": "https://localhost:8080/"
        },
        "id": "gE4CekxVMHr6",
        "outputId": "4c3f1ee8-eda8-4a89-eab3-f34fe6699e35"
      },
      "execution_count": null,
      "outputs": [
        {
          "output_type": "stream",
          "name": "stdout",
          "text": [
            "모델 정확도: 0.40125\n"
          ]
        }
      ]
    },
    {
      "cell_type": "markdown",
      "source": [
        "# LightGBM"
      ],
      "metadata": {
        "id": "0xnvJp9GNAIT"
      }
    },
    {
      "cell_type": "code",
      "source": [
        "import lightgbm as lgb\n",
        "\n",
        "\n",
        "# 학습 데이터와 테스트 데이터 분리\n",
        "X_train, X_test, y_train, y_test = train_test_split(df_pro, y_pro, test_size=0.2, random_state=42)\n",
        "\n",
        "# LightGBM 데이터셋 생성\n",
        "lgb_train = lgb.Dataset(X_train, y_train)\n",
        "\n",
        "# LightGBM 모델 학습\n",
        "params = {\n",
        "    'objective': 'multiclass',\n",
        "    'num_class': 5\n",
        "}\n",
        "model = lgb.train(params, lgb_train)\n",
        "\n",
        "# 테스트 데이터에 대한 예측\n",
        "y_pred = model.predict(X_test)\n",
        "y_pred = y_pred.argmax(axis=1)\n",
        "\n",
        "# 모델 성능 평가\n",
        "accuracy = accuracy_score(y_test, y_pred)\n",
        "print(\"모델 정확도:\", accuracy)"
      ],
      "metadata": {
        "colab": {
          "base_uri": "https://localhost:8080/"
        },
        "id": "ZUJX1aR7M_WV",
        "outputId": "955cab59-7b2e-453d-a1d1-7027816a803e"
      },
      "execution_count": null,
      "outputs": [
        {
          "output_type": "stream",
          "name": "stderr",
          "text": [
            "/usr/local/lib/python3.10/dist-packages/lightgbm/basic.py:179: UserWarning: Converting column-vector to 1d array\n",
            "  _log_warning('Converting column-vector to 1d array')\n"
          ]
        },
        {
          "output_type": "stream",
          "name": "stdout",
          "text": [
            "[LightGBM] [Warning] Auto-choosing col-wise multi-threading, the overhead of testing was 0.035489 seconds.\n",
            "You can set `force_col_wise=true` to remove the overhead.\n",
            "[LightGBM] [Info] Total Bins 39139\n",
            "[LightGBM] [Info] Number of data points in the train set: 16000, number of used features: 166\n",
            "[LightGBM] [Info] Start training from score -2.753767\n",
            "[LightGBM] [Info] Start training from score -2.742060\n",
            "[LightGBM] [Info] Start training from score -1.509310\n",
            "[LightGBM] [Info] Start training from score -1.388547\n",
            "[LightGBM] [Info] Start training from score -0.912859\n",
            "모델 정확도: 0.40875\n"
          ]
        }
      ]
    },
    {
      "cell_type": "markdown",
      "source": [
        "# 80:20으로 딥 돌리기"
      ],
      "metadata": {
        "id": "DY8CAtTvNV0T"
      }
    },
    {
      "cell_type": "code",
      "source": [
        "# 감성 분석을 위한 모델 정의\n",
        "model = tf.keras.Sequential([\n",
        "    tf.keras.layers.Embedding(20000, 300, input_length=200),\n",
        "    tf.keras.layers.LSTM(units=50),\n",
        "    tf.keras.layers.Dense(units=5, activation='softmax')\n",
        "])\n",
        "model.compile(optimizer='adam', loss='sparse_categorical_crossentropy', metrics=['accuracy'])\n",
        "model.summary()\n",
        "\n",
        "history = model.fit(df_pro[:16000], y_pro[:16000], epochs=5, batch_size=128, validation_split=0.2)\n",
        "\n",
        "model.evaluate(df_pro[16000:], y_pro[16000:], verbose=0)"
      ],
      "metadata": {
        "colab": {
          "base_uri": "https://localhost:8080/"
        },
        "id": "OujQUCrdNYJ6",
        "outputId": "f1441d2b-e62e-4feb-b231-4a0587b9a506"
      },
      "execution_count": null,
      "outputs": [
        {
          "output_type": "stream",
          "name": "stdout",
          "text": [
            "Model: \"sequential_1\"\n",
            "_________________________________________________________________\n",
            " Layer (type)                Output Shape              Param #   \n",
            "=================================================================\n",
            " embedding_1 (Embedding)     (None, 200, 300)          6000000   \n",
            "                                                                 \n",
            " lstm_1 (LSTM)               (None, 50)                70200     \n",
            "                                                                 \n",
            " dense_1 (Dense)             (None, 5)                 255       \n",
            "                                                                 \n",
            "=================================================================\n",
            "Total params: 6,070,455\n",
            "Trainable params: 6,070,455\n",
            "Non-trainable params: 0\n",
            "_________________________________________________________________\n",
            "Epoch 1/5\n",
            "100/100 [==============================] - 64s 626ms/step - loss: 1.4159 - accuracy: 0.3926 - val_loss: 1.3922 - val_accuracy: 0.4066\n",
            "Epoch 2/5\n",
            "100/100 [==============================] - 62s 619ms/step - loss: 1.4031 - accuracy: 0.3970 - val_loss: 1.3858 - val_accuracy: 0.4066\n",
            "Epoch 3/5\n",
            "100/100 [==============================] - 68s 687ms/step - loss: 1.4030 - accuracy: 0.3970 - val_loss: 1.3858 - val_accuracy: 0.4066\n",
            "Epoch 4/5\n",
            "100/100 [==============================] - 64s 639ms/step - loss: 1.4038 - accuracy: 0.3970 - val_loss: 1.3869 - val_accuracy: 0.4066\n",
            "Epoch 5/5\n",
            "100/100 [==============================] - 69s 687ms/step - loss: 1.4028 - accuracy: 0.3970 - val_loss: 1.3871 - val_accuracy: 0.4066\n"
          ]
        },
        {
          "output_type": "execute_result",
          "data": {
            "text/plain": [
              "[1.3973389863967896, 0.4115000069141388]"
            ]
          },
          "metadata": {},
          "execution_count": 18
        }
      ]
    },
    {
      "cell_type": "code",
      "source": [
        "df_pro.shape"
      ],
      "metadata": {
        "colab": {
          "base_uri": "https://localhost:8080/"
        },
        "id": "kd18XfUSNp5J",
        "outputId": "664633ee-d5e9-416d-f4d0-8fbf3bbae5f1"
      },
      "execution_count": null,
      "outputs": [
        {
          "output_type": "execute_result",
          "data": {
            "text/plain": [
              "(20000, 200)"
            ]
          },
          "metadata": {},
          "execution_count": 16
        }
      ]
    },
    {
      "cell_type": "code",
      "source": [],
      "metadata": {
        "id": "W8CTkYAeNrW7"
      },
      "execution_count": null,
      "outputs": []
    }
  ]
}